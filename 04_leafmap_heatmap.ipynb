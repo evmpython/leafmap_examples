{
 "cells": [
  {
   "cell_type": "markdown",
   "id": "7507cf29-3497-44a4-a89e-455fb408611b",
   "metadata": {},
   "source": [
    "# Mapa em formato de `Heatmap`"
   ]
  },
  {
   "cell_type": "markdown",
   "id": "f054159d-9ae6-4f3a-abd6-381f88131d2a",
   "metadata": {},
   "source": [
    "## Carregando os dados"
   ]
  },
  {
   "cell_type": "code",
   "execution_count": 8,
   "id": "8da95503-49f8-462d-a9de-7c26e905d68f",
   "metadata": {},
   "outputs": [
    {
     "name": "stdout",
     "output_type": "stream",
     "text": [
      "CPU times: total: 594 ms\n",
      "Wall time: 2.27 s\n"
     ]
    },
    {
     "data": {
      "text/html": [
       "<div>\n",
       "<style scoped>\n",
       "    .dataframe tbody tr th:only-of-type {\n",
       "        vertical-align: middle;\n",
       "    }\n",
       "\n",
       "    .dataframe tbody tr th {\n",
       "        vertical-align: top;\n",
       "    }\n",
       "\n",
       "    .dataframe thead th {\n",
       "        text-align: right;\n",
       "    }\n",
       "</style>\n",
       "<table border=\"1\" class=\"dataframe\">\n",
       "  <thead>\n",
       "    <tr style=\"text-align: right;\">\n",
       "      <th></th>\n",
       "      <th>latitude</th>\n",
       "      <th>longitude</th>\n",
       "      <th>data_pas</th>\n",
       "      <th>count</th>\n",
       "    </tr>\n",
       "  </thead>\n",
       "  <tbody>\n",
       "    <tr>\n",
       "      <th>0</th>\n",
       "      <td>-3.650</td>\n",
       "      <td>-54.732</td>\n",
       "      <td>2020-06-16 17:00:00</td>\n",
       "      <td>1</td>\n",
       "    </tr>\n",
       "    <tr>\n",
       "      <th>1</th>\n",
       "      <td>-4.128</td>\n",
       "      <td>-47.074</td>\n",
       "      <td>2020-06-16 17:00:00</td>\n",
       "      <td>1</td>\n",
       "    </tr>\n",
       "    <tr>\n",
       "      <th>2</th>\n",
       "      <td>-10.513</td>\n",
       "      <td>-53.483</td>\n",
       "      <td>2020-06-16 16:55:00</td>\n",
       "      <td>1</td>\n",
       "    </tr>\n",
       "    <tr>\n",
       "      <th>3</th>\n",
       "      <td>-10.504</td>\n",
       "      <td>-53.498</td>\n",
       "      <td>2020-06-16 16:55:00</td>\n",
       "      <td>1</td>\n",
       "    </tr>\n",
       "    <tr>\n",
       "      <th>4</th>\n",
       "      <td>-10.494</td>\n",
       "      <td>-46.488</td>\n",
       "      <td>2020-06-16 16:55:00</td>\n",
       "      <td>1</td>\n",
       "    </tr>\n",
       "    <tr>\n",
       "      <th>...</th>\n",
       "      <td>...</td>\n",
       "      <td>...</td>\n",
       "      <td>...</td>\n",
       "      <td>...</td>\n",
       "    </tr>\n",
       "    <tr>\n",
       "      <th>222792</th>\n",
       "      <td>-23.163</td>\n",
       "      <td>-49.164</td>\n",
       "      <td>2020-10-02 17:15:00</td>\n",
       "      <td>1</td>\n",
       "    </tr>\n",
       "    <tr>\n",
       "      <th>222793</th>\n",
       "      <td>-9.558</td>\n",
       "      <td>-66.777</td>\n",
       "      <td>2020-10-13 18:40:00</td>\n",
       "      <td>1</td>\n",
       "    </tr>\n",
       "    <tr>\n",
       "      <th>222794</th>\n",
       "      <td>-21.691</td>\n",
       "      <td>-44.016</td>\n",
       "      <td>2020-10-13 17:00:00</td>\n",
       "      <td>1</td>\n",
       "    </tr>\n",
       "    <tr>\n",
       "      <th>222795</th>\n",
       "      <td>-16.451</td>\n",
       "      <td>-46.062</td>\n",
       "      <td>2020-10-13 17:00:00</td>\n",
       "      <td>1</td>\n",
       "    </tr>\n",
       "    <tr>\n",
       "      <th>222796</th>\n",
       "      <td>-6.645</td>\n",
       "      <td>-41.353</td>\n",
       "      <td>2020-10-13 17:05:00</td>\n",
       "      <td>1</td>\n",
       "    </tr>\n",
       "  </tbody>\n",
       "</table>\n",
       "<p>222797 rows × 4 columns</p>\n",
       "</div>"
      ],
      "text/plain": [
       "        latitude  longitude             data_pas  count\n",
       "0         -3.650    -54.732  2020-06-16 17:00:00      1\n",
       "1         -4.128    -47.074  2020-06-16 17:00:00      1\n",
       "2        -10.513    -53.483  2020-06-16 16:55:00      1\n",
       "3        -10.504    -53.498  2020-06-16 16:55:00      1\n",
       "4        -10.494    -46.488  2020-06-16 16:55:00      1\n",
       "...          ...        ...                  ...    ...\n",
       "222792   -23.163    -49.164  2020-10-02 17:15:00      1\n",
       "222793    -9.558    -66.777  2020-10-13 18:40:00      1\n",
       "222794   -21.691    -44.016  2020-10-13 17:00:00      1\n",
       "222795   -16.451    -46.062  2020-10-13 17:00:00      1\n",
       "222796    -6.645    -41.353  2020-10-13 17:05:00      1\n",
       "\n",
       "[222797 rows x 4 columns]"
      ]
     },
     "execution_count": 8,
     "metadata": {},
     "output_type": "execute_result"
    }
   ],
   "source": [
    "%%time\n",
    "# Importa bibliotecas\n",
    "from datetime import datetime, timedelta, date\n",
    "import datetime\n",
    "import pandas as pd\n",
    "\n",
    "# URL dos dados ANUAL do INPE\n",
    "url_mensal = 'https://dataserver-coids.inpe.br/queimadas/queimadas/focos/csv/anual/Brasil_sat_ref/'\n",
    "\n",
    "# nome do arquivo\n",
    "filename = 'focos_br_ref_2020.zip'\n",
    "\n",
    "# leitura dos dados\n",
    "df = pd.read_csv(f'{url_mensal}{filename}', compression='zip', usecols=['lat','lon','data_pas'])\n",
    "\n",
    "# renomeia algumas colunas\n",
    "df.rename(columns={'lat': 'latitude', 'lon': 'longitude'}, inplace=True)\n",
    "\n",
    "# cria uma coluna como valor um para cada ocorrência de foco de calor\n",
    "df['count'] = 1\n",
    "\n",
    "# mostra os dados\n",
    "df"
   ]
  },
  {
   "cell_type": "markdown",
   "id": "87721868-1f5d-4595-818c-291cc13b88ea",
   "metadata": {},
   "source": [
    "## Plota mapa"
   ]
  },
  {
   "cell_type": "code",
   "execution_count": 9,
   "id": "d6603d5f-579b-4375-ab23-125e3567ff7b",
   "metadata": {},
   "outputs": [
    {
     "data": {
      "application/vnd.jupyter.widget-view+json": {
       "model_id": "ff218f6fb1504d25866df419b3a8b14f",
       "version_major": 2,
       "version_minor": 0
      },
      "text/plain": [
       "Map(center=[-15, -60], controls=(ZoomControl(options=['position', 'zoom_in_text', 'zoom_in_title', 'zoom_out_t…"
      ]
     },
     "execution_count": 9,
     "metadata": {},
     "output_type": "execute_result"
    }
   ],
   "source": [
    "# importa biblioteca\n",
    "import leafmap.leafmap as leafmap\n",
    "\n",
    "# configuração do mapa\n",
    "Map = leafmap.Map(center=(-15, -60), zoom=4)\n",
    "\n",
    "# adiciona mapa de fundo\n",
    "Map.add_basemap('HYBRID')\n",
    "\n",
    "# plota os dados\n",
    "Map.add_heatmap(df,\n",
    "                x=\"longitude\",\n",
    "                y=\"latitude\",\n",
    "                value=\"count\",\n",
    "                name=\"HeatMap\",\n",
    "                radius=20)\n",
    "\n",
    "# adiciona contorno dos estados\n",
    "shp_estados_brasil = 'https://github.com/codeforgermany/click_that_hood/blob/main/public/data/brazil-states.geojson'\n",
    "Map.add_geojson(shp_estados_brasil, layer_name=\"Estados do Brasil\")\n",
    "\n",
    "# exibe o mapa\n",
    "Map"
   ]
  },
  {
   "cell_type": "code",
   "execution_count": 10,
   "id": "bb7aaf5b-e695-432e-8644-58155c4fb739",
   "metadata": {},
   "outputs": [],
   "source": [
    "# salva imagem para HTML\n",
    "Map.to_html(\"map_heatmap.html\")"
   ]
  }
 ],
 "metadata": {
  "kernelspec": {
   "display_name": "Python 3 (ipykernel)",
   "language": "python",
   "name": "python3"
  },
  "language_info": {
   "codemirror_mode": {
    "name": "ipython",
    "version": 3
   },
   "file_extension": ".py",
   "mimetype": "text/x-python",
   "name": "python",
   "nbconvert_exporter": "python",
   "pygments_lexer": "ipython3",
   "version": "3.12.4"
  }
 },
 "nbformat": 4,
 "nbformat_minor": 5
}
